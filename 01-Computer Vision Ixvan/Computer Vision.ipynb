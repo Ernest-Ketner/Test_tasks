{
 "cells": [
  {
   "cell_type": "markdown",
   "metadata": {},
   "source": [
    "## Тестовое Computer Vision"
   ]
  },
  {
   "cell_type": "markdown",
   "metadata": {},
   "source": [
    "В папке cv находятся изображения документов, в которых необходимо распознать все сущности и результат записать в json файл. К примеру, \n",
    "для изображения cv/1.jpg результат должен быть таким:\n",
    "\n",
    "{ 'Выписка из протокола' : 'Комиссии Архитектурного совета по формированию городской среды',\n",
    "  'дата': '11.07.00', 'номер': '11' , 'пункт': '1',\n",
    "   'Наименование объекта': 'ТЭО строительства пристройки БНК к зданию средней общеобразовательной школы   № 1650',\n",
    "   'Авторы проекта': 'Микоян К.С, Макарова Р.Д., Мещерский В.В.', \n",
    "   'Генеральная проектная организация': 'МОСКОМАРТ, мастерская № 1',\n",
    "   'Застройщик': 'ЗАО \"ТЭМ-Строй\"',\n",
    "   'Рассмотрение на рабочей комиссии': ' ',\n",
    "   'Референт': 'Зайцых В.А.',\n",
    "   'Докладчик': ' ',\n",
    "   'Выступили': ' ' }\n",
    "\n",
    "Язык программирования: Python 3.6 или 3.7.\n",
    "\n",
    "Нефункциональные требования\n",
    "1. Минимальное необходимое количество библиотек-зависимостей\n",
    "2. Соответствие исходного кода PEP 8"
   ]
  },
  {
   "cell_type": "markdown",
   "metadata": {},
   "source": [
    "### Процесс решения задачи"
   ]
  },
  {
   "cell_type": "markdown",
   "metadata": {},
   "source": [
    "Загружаем необходимые библиотеки."
   ]
  },
  {
   "cell_type": "code",
   "execution_count": 1,
   "metadata": {},
   "outputs": [],
   "source": [
    "import os\n",
    "import re\n",
    "import cv2\n",
    "import json\n",
    "import numpy as np\n",
    "import pytesseract\n",
    "pytesseract.pytesseract.tesseract_cmd = r'C:\\Program Files (x86)\\Tesseract-OCR\\tesseract.exe'"
   ]
  },
  {
   "cell_type": "markdown",
   "metadata": {},
   "source": [
    "Создадим необходимые для решения задачи функции."
   ]
  },
  {
   "cell_type": "code",
   "execution_count": 2,
   "metadata": {},
   "outputs": [],
   "source": [
    "def save_json(content, json_name):\n",
    "    \n",
    "    '''The function saves content according to the dictionary below.'''\n",
    "    \n",
    "    content = content[::-1]\n",
    "    data = {'Выписка из протокола' : content[0],\n",
    "            'дата': content[3], 'номер': content[2], 'пункт': content[1],\n",
    "            'Наименование объекта': content[4],\n",
    "            'Авторы проекта': content[5],\n",
    "            'Генеральная проектная организация': content[6],\n",
    "            'Застройщик': content[7],\n",
    "            'Рассмотрение на рабочей комиссии': '',\n",
    "            'Референт': content[8],\n",
    "            'Докладчик': content[9],\n",
    "            'Выступили': content[10]}\n",
    "    \n",
    "    with open(str(json_name) + '.json', 'w', encoding = 'utf-8') as outfile:\n",
    "        json.dump(data, outfile, ensure_ascii = False)\n",
    "    outfile.close()"
   ]
  },
  {
   "cell_type": "code",
   "execution_count": 3,
   "metadata": {},
   "outputs": [],
   "source": [
    "def get_content_and_save_json(path):\n",
    "    \n",
    "    '''The function extracts and saves in json-file the content from the image.'''\n",
    "    \n",
    "    images_counter = 0\n",
    "    config = r' -l rus --oem 3 --psm 6'\n",
    "    \n",
    "    image_paths = [os.path.join(path, file) for file in os.listdir(path)]\n",
    "    for image_path in image_paths:\n",
    "        images_counter += 1\n",
    "        content = []\n",
    "        \n",
    "        image = cv2.imread(image_path)\n",
    "        gray = cv2.cvtColor(image, cv2.COLOR_BGR2GRAY)\n",
    "        thresh = cv2.threshold(gray, 0, 255, cv2.THRESH_BINARY_INV + cv2.THRESH_OTSU)[1]\n",
    "\n",
    "        contoures = cv2.findContours(thresh,cv2.RETR_EXTERNAL, cv2.CHAIN_APPROX_SIMPLE)\n",
    "        contoures = contoures[0] if len(contoures) == 2 else contoures[1]\n",
    "        \n",
    "        for contour in contoures:\n",
    "            if cv2.contourArea(contour) > 168: \n",
    "                epsilon = cv2.arcLength(contour, False)\n",
    "                approximation = cv2.approxPolyDP(contour, 0.008 * epsilon, False)\n",
    "                if len(approximation) <= 15:\n",
    "                    x, y, w, h = cv2.boundingRect(approximation)\n",
    "                    rectangle = np.array(thresh[y+5: y+h-5, x+5: x+w-5], np.uint8)\n",
    "                    string = pytesseract.image_to_string(rectangle, config = config)\n",
    "                    clean_string = re.sub('[^а-яА-Я0-9 \"\\.\\№\\,]', ' ', string).strip()\n",
    "                    content.append(clean_string)\n",
    "   \n",
    "        save_json(content, images_counter)"
   ]
  },
  {
   "cell_type": "markdown",
   "metadata": {},
   "source": [
    "Применяем функцию."
   ]
  },
  {
   "cell_type": "code",
   "execution_count": 4,
   "metadata": {},
   "outputs": [],
   "source": [
    "path = 'cv'"
   ]
  },
  {
   "cell_type": "code",
   "execution_count": 5,
   "metadata": {
    "scrolled": true
   },
   "outputs": [],
   "source": [
    "get_content_and_save_json(path)"
   ]
  },
  {
   "cell_type": "code",
   "execution_count": null,
   "metadata": {},
   "outputs": [],
   "source": []
  }
 ],
 "metadata": {
  "kernelspec": {
   "display_name": "Python 3",
   "language": "python",
   "name": "python3"
  },
  "language_info": {
   "codemirror_mode": {
    "name": "ipython",
    "version": 3
   },
   "file_extension": ".py",
   "mimetype": "text/x-python",
   "name": "python",
   "nbconvert_exporter": "python",
   "pygments_lexer": "ipython3",
   "version": "3.7.6"
  }
 },
 "nbformat": 4,
 "nbformat_minor": 4
}
