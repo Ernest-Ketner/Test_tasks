{
 "cells": [
  {
   "cell_type": "markdown",
   "metadata": {},
   "source": [
    "### LSTM neural network for time series\n",
    "\n",
    "1. File volkswagen.csv contains daily stock trading info for Volkswagen AG in 2020 year. Open the file as pandas dataframe. Add to the dataframe a new column “Quantile”. It should take 4 possible values [1,2,3,4]. A value in this column is a quantile [0.25, 0.5, 0.75 or 1] of column “Volume” to which belong an appropriate row. Alternatively, it is also called 25th,50th,75th and 100th percentiles.  \n",
    "Group dataframe by column Quantile to get mean values for all columns in every Quantile group. The output of grouping is dataframe itself. Save it as groups.csv file. \n",
    "\n",
    "\n",
    "2. Use again volkswagen.csv . You need columns “Close” and “Date”. Split “Close” time series on training/validation/test parts in proportion 70/20/10. Use training/validation data to train LSTM neural network. Normalize the data (e.g., with MinMaxScaler from scikit-learn library) before training. Train the model. The model should take several actual time series values to predict 1 future value. You can select arbitrary number of previous values to use for prediction. For example, you can train your model to make a prediction of xt based on previous 20 observations: xt-1, xt-2, …xt-20  (! Be sure that you predict based on previous values, not the future ones). Keep model architecture simple. It must contain at least one LSTM layer. Save trained model. Model’s explanatory power is not important. Don’t think here about accuracy etc. It should just work.   \n",
    "Apply the model to test data, and get predictions. Plot actual test data and predicted test data on the same chart (for example, use matplotlib library). \n",
    "Please, write comments in your code\n",
    "Provide all code, list of installed libraries (requirements.txt) and saved csv files\n"
   ]
  },
  {
   "cell_type": "markdown",
   "metadata": {},
   "source": [
    "___"
   ]
  },
  {
   "cell_type": "markdown",
   "metadata": {},
   "source": [
    "#### First task."
   ]
  },
  {
   "cell_type": "code",
   "execution_count": 1,
   "metadata": {},
   "outputs": [],
   "source": [
    "import pandas as pd"
   ]
  },
  {
   "cell_type": "code",
   "execution_count": 2,
   "metadata": {},
   "outputs": [],
   "source": [
    "df = pd.read_csv('volkswagen.csv')"
   ]
  },
  {
   "cell_type": "code",
   "execution_count": 3,
   "metadata": {},
   "outputs": [],
   "source": [
    "df['Quantile'] = pd.qcut(df['Volume'], 4, labels=[1, 2, 3, 4])"
   ]
  },
  {
   "cell_type": "code",
   "execution_count": 4,
   "metadata": {},
   "outputs": [],
   "source": [
    "df = df.groupby('Quantile', as_index=False).mean()"
   ]
  },
  {
   "cell_type": "code",
   "execution_count": 5,
   "metadata": {},
   "outputs": [
    {
     "data": {
      "text/html": [
       "<div>\n",
       "<style scoped>\n",
       "    .dataframe tbody tr th:only-of-type {\n",
       "        vertical-align: middle;\n",
       "    }\n",
       "\n",
       "    .dataframe tbody tr th {\n",
       "        vertical-align: top;\n",
       "    }\n",
       "\n",
       "    .dataframe thead th {\n",
       "        text-align: right;\n",
       "    }\n",
       "</style>\n",
       "<table border=\"1\" class=\"dataframe\">\n",
       "  <thead>\n",
       "    <tr style=\"text-align: right;\">\n",
       "      <th></th>\n",
       "      <th>Quantile</th>\n",
       "      <th>Open</th>\n",
       "      <th>High</th>\n",
       "      <th>Low</th>\n",
       "      <th>Close</th>\n",
       "      <th>Adj Close</th>\n",
       "      <th>Volume</th>\n",
       "    </tr>\n",
       "  </thead>\n",
       "  <tbody>\n",
       "    <tr>\n",
       "      <th>0</th>\n",
       "      <td>1</td>\n",
       "      <td>17.724391</td>\n",
       "      <td>17.828625</td>\n",
       "      <td>17.578828</td>\n",
       "      <td>17.699734</td>\n",
       "      <td>16.894641</td>\n",
       "      <td>69523.437500</td>\n",
       "    </tr>\n",
       "    <tr>\n",
       "      <th>1</th>\n",
       "      <td>2</td>\n",
       "      <td>17.630794</td>\n",
       "      <td>17.771540</td>\n",
       "      <td>17.498587</td>\n",
       "      <td>17.651587</td>\n",
       "      <td>16.943300</td>\n",
       "      <td>111374.603175</td>\n",
       "    </tr>\n",
       "    <tr>\n",
       "      <th>2</th>\n",
       "      <td>3</td>\n",
       "      <td>17.122921</td>\n",
       "      <td>17.259095</td>\n",
       "      <td>16.918920</td>\n",
       "      <td>17.078968</td>\n",
       "      <td>16.426738</td>\n",
       "      <td>167992.063492</td>\n",
       "    </tr>\n",
       "    <tr>\n",
       "      <th>3</th>\n",
       "      <td>4</td>\n",
       "      <td>15.660619</td>\n",
       "      <td>15.895206</td>\n",
       "      <td>15.434159</td>\n",
       "      <td>15.682698</td>\n",
       "      <td>15.089721</td>\n",
       "      <td>324239.682540</td>\n",
       "    </tr>\n",
       "  </tbody>\n",
       "</table>\n",
       "</div>"
      ],
      "text/plain": [
       "  Quantile       Open       High        Low      Close  Adj Close  \\\n",
       "0        1  17.724391  17.828625  17.578828  17.699734  16.894641   \n",
       "1        2  17.630794  17.771540  17.498587  17.651587  16.943300   \n",
       "2        3  17.122921  17.259095  16.918920  17.078968  16.426738   \n",
       "3        4  15.660619  15.895206  15.434159  15.682698  15.089721   \n",
       "\n",
       "          Volume  \n",
       "0   69523.437500  \n",
       "1  111374.603175  \n",
       "2  167992.063492  \n",
       "3  324239.682540  "
      ]
     },
     "execution_count": 5,
     "metadata": {},
     "output_type": "execute_result"
    }
   ],
   "source": [
    "df"
   ]
  },
  {
   "cell_type": "code",
   "execution_count": 6,
   "metadata": {},
   "outputs": [],
   "source": [
    "df.to_csv('groups.csv', index=False)"
   ]
  },
  {
   "cell_type": "markdown",
   "metadata": {},
   "source": [
    "___"
   ]
  },
  {
   "cell_type": "markdown",
   "metadata": {},
   "source": [
    "#### Second task."
   ]
  },
  {
   "cell_type": "code",
   "execution_count": 7,
   "metadata": {},
   "outputs": [],
   "source": [
    "import numpy as np\n",
    "import matplotlib.pyplot as plt\n",
    "from sklearn.model_selection import train_test_split\n",
    "from tensorflow.keras.models import Sequential\n",
    "from tensorflow.keras.layers import Dense, LSTM\n",
    "from sklearn.preprocessing import MinMaxScaler\n",
    "from sklearn.metrics import mean_squared_error\n",
    "from tensorflow.keras.callbacks import ModelCheckpoint\n",
    "import warnings\n",
    "warnings.simplefilter('ignore')"
   ]
  },
  {
   "cell_type": "code",
   "execution_count": 8,
   "metadata": {},
   "outputs": [],
   "source": [
    "df = pd.read_csv('volkswagen.csv')"
   ]
  },
  {
   "cell_type": "code",
   "execution_count": 9,
   "metadata": {},
   "outputs": [],
   "source": [
    "df = df.sort_values('Date')"
   ]
  },
  {
   "cell_type": "markdown",
   "metadata": {},
   "source": [
    "Let's see what kind of data we have."
   ]
  },
  {
   "cell_type": "code",
   "execution_count": 10,
   "metadata": {},
   "outputs": [
    {
     "data": {
      "text/html": [
       "<div>\n",
       "<style scoped>\n",
       "    .dataframe tbody tr th:only-of-type {\n",
       "        vertical-align: middle;\n",
       "    }\n",
       "\n",
       "    .dataframe tbody tr th {\n",
       "        vertical-align: top;\n",
       "    }\n",
       "\n",
       "    .dataframe thead th {\n",
       "        text-align: right;\n",
       "    }\n",
       "</style>\n",
       "<table border=\"1\" class=\"dataframe\">\n",
       "  <thead>\n",
       "    <tr style=\"text-align: right;\">\n",
       "      <th></th>\n",
       "      <th>Date</th>\n",
       "      <th>Open</th>\n",
       "      <th>High</th>\n",
       "      <th>Low</th>\n",
       "      <th>Close</th>\n",
       "      <th>Adj Close</th>\n",
       "      <th>Volume</th>\n",
       "    </tr>\n",
       "  </thead>\n",
       "  <tbody>\n",
       "    <tr>\n",
       "      <th>0</th>\n",
       "      <td>2019-12-31</td>\n",
       "      <td>19.420000</td>\n",
       "      <td>19.420000</td>\n",
       "      <td>19.139999</td>\n",
       "      <td>19.290001</td>\n",
       "      <td>18.345758</td>\n",
       "      <td>25500</td>\n",
       "    </tr>\n",
       "    <tr>\n",
       "      <th>1</th>\n",
       "      <td>2020-01-02</td>\n",
       "      <td>19.667999</td>\n",
       "      <td>19.896999</td>\n",
       "      <td>19.639999</td>\n",
       "      <td>19.889999</td>\n",
       "      <td>18.916388</td>\n",
       "      <td>71000</td>\n",
       "    </tr>\n",
       "    <tr>\n",
       "      <th>2</th>\n",
       "      <td>2020-01-03</td>\n",
       "      <td>19.430000</td>\n",
       "      <td>19.540001</td>\n",
       "      <td>19.378000</td>\n",
       "      <td>19.410000</td>\n",
       "      <td>18.459883</td>\n",
       "      <td>35500</td>\n",
       "    </tr>\n",
       "    <tr>\n",
       "      <th>3</th>\n",
       "      <td>2020-01-06</td>\n",
       "      <td>19.360001</td>\n",
       "      <td>19.650000</td>\n",
       "      <td>19.330000</td>\n",
       "      <td>19.620001</td>\n",
       "      <td>18.659605</td>\n",
       "      <td>115300</td>\n",
       "    </tr>\n",
       "    <tr>\n",
       "      <th>4</th>\n",
       "      <td>2020-01-07</td>\n",
       "      <td>19.586000</td>\n",
       "      <td>19.700001</td>\n",
       "      <td>19.459999</td>\n",
       "      <td>19.520000</td>\n",
       "      <td>18.564501</td>\n",
       "      <td>181300</td>\n",
       "    </tr>\n",
       "  </tbody>\n",
       "</table>\n",
       "</div>"
      ],
      "text/plain": [
       "         Date       Open       High        Low      Close  Adj Close  Volume\n",
       "0  2019-12-31  19.420000  19.420000  19.139999  19.290001  18.345758   25500\n",
       "1  2020-01-02  19.667999  19.896999  19.639999  19.889999  18.916388   71000\n",
       "2  2020-01-03  19.430000  19.540001  19.378000  19.410000  18.459883   35500\n",
       "3  2020-01-06  19.360001  19.650000  19.330000  19.620001  18.659605  115300\n",
       "4  2020-01-07  19.586000  19.700001  19.459999  19.520000  18.564501  181300"
      ]
     },
     "execution_count": 10,
     "metadata": {},
     "output_type": "execute_result"
    }
   ],
   "source": [
    "df.head()"
   ]
  },
  {
   "cell_type": "code",
   "execution_count": 11,
   "metadata": {},
   "outputs": [
    {
     "data": {
      "text/html": [
       "<div>\n",
       "<style scoped>\n",
       "    .dataframe tbody tr th:only-of-type {\n",
       "        vertical-align: middle;\n",
       "    }\n",
       "\n",
       "    .dataframe tbody tr th {\n",
       "        vertical-align: top;\n",
       "    }\n",
       "\n",
       "    .dataframe thead th {\n",
       "        text-align: right;\n",
       "    }\n",
       "</style>\n",
       "<table border=\"1\" class=\"dataframe\">\n",
       "  <thead>\n",
       "    <tr style=\"text-align: right;\">\n",
       "      <th></th>\n",
       "      <th>Date</th>\n",
       "      <th>Open</th>\n",
       "      <th>High</th>\n",
       "      <th>Low</th>\n",
       "      <th>Close</th>\n",
       "      <th>Adj Close</th>\n",
       "      <th>Volume</th>\n",
       "    </tr>\n",
       "  </thead>\n",
       "  <tbody>\n",
       "    <tr>\n",
       "      <th>248</th>\n",
       "      <td>2020-12-23</td>\n",
       "      <td>20.500000</td>\n",
       "      <td>20.719999</td>\n",
       "      <td>20.400000</td>\n",
       "      <td>20.690001</td>\n",
       "      <td>20.325727</td>\n",
       "      <td>343100</td>\n",
       "    </tr>\n",
       "    <tr>\n",
       "      <th>249</th>\n",
       "      <td>2020-12-24</td>\n",
       "      <td>20.730000</td>\n",
       "      <td>20.850000</td>\n",
       "      <td>20.650000</td>\n",
       "      <td>20.830000</td>\n",
       "      <td>20.463261</td>\n",
       "      <td>124300</td>\n",
       "    </tr>\n",
       "    <tr>\n",
       "      <th>250</th>\n",
       "      <td>2020-12-28</td>\n",
       "      <td>20.840000</td>\n",
       "      <td>20.959999</td>\n",
       "      <td>20.799999</td>\n",
       "      <td>20.834000</td>\n",
       "      <td>20.467192</td>\n",
       "      <td>229800</td>\n",
       "    </tr>\n",
       "    <tr>\n",
       "      <th>251</th>\n",
       "      <td>2020-12-29</td>\n",
       "      <td>20.889999</td>\n",
       "      <td>20.889999</td>\n",
       "      <td>20.750000</td>\n",
       "      <td>20.820000</td>\n",
       "      <td>20.453438</td>\n",
       "      <td>103700</td>\n",
       "    </tr>\n",
       "    <tr>\n",
       "      <th>252</th>\n",
       "      <td>2020-12-30</td>\n",
       "      <td>21.070000</td>\n",
       "      <td>21.139999</td>\n",
       "      <td>20.870001</td>\n",
       "      <td>20.951000</td>\n",
       "      <td>20.582132</td>\n",
       "      <td>152600</td>\n",
       "    </tr>\n",
       "  </tbody>\n",
       "</table>\n",
       "</div>"
      ],
      "text/plain": [
       "           Date       Open       High        Low      Close  Adj Close  Volume\n",
       "248  2020-12-23  20.500000  20.719999  20.400000  20.690001  20.325727  343100\n",
       "249  2020-12-24  20.730000  20.850000  20.650000  20.830000  20.463261  124300\n",
       "250  2020-12-28  20.840000  20.959999  20.799999  20.834000  20.467192  229800\n",
       "251  2020-12-29  20.889999  20.889999  20.750000  20.820000  20.453438  103700\n",
       "252  2020-12-30  21.070000  21.139999  20.870001  20.951000  20.582132  152600"
      ]
     },
     "execution_count": 11,
     "metadata": {},
     "output_type": "execute_result"
    }
   ],
   "source": [
    "df.tail()"
   ]
  },
  {
   "cell_type": "code",
   "execution_count": 12,
   "metadata": {},
   "outputs": [
    {
     "data": {
      "text/html": [
       "<div>\n",
       "<style scoped>\n",
       "    .dataframe tbody tr th:only-of-type {\n",
       "        vertical-align: middle;\n",
       "    }\n",
       "\n",
       "    .dataframe tbody tr th {\n",
       "        vertical-align: top;\n",
       "    }\n",
       "\n",
       "    .dataframe thead th {\n",
       "        text-align: right;\n",
       "    }\n",
       "</style>\n",
       "<table border=\"1\" class=\"dataframe\">\n",
       "  <thead>\n",
       "    <tr style=\"text-align: right;\">\n",
       "      <th></th>\n",
       "      <th>Open</th>\n",
       "      <th>High</th>\n",
       "      <th>Low</th>\n",
       "      <th>Close</th>\n",
       "      <th>Adj Close</th>\n",
       "      <th>Volume</th>\n",
       "    </tr>\n",
       "  </thead>\n",
       "  <tbody>\n",
       "    <tr>\n",
       "      <th>count</th>\n",
       "      <td>253.000000</td>\n",
       "      <td>253.000000</td>\n",
       "      <td>253.000000</td>\n",
       "      <td>253.000000</td>\n",
       "      <td>253.000000</td>\n",
       "      <td>253.000000</td>\n",
       "    </tr>\n",
       "    <tr>\n",
       "      <th>mean</th>\n",
       "      <td>17.037407</td>\n",
       "      <td>17.191146</td>\n",
       "      <td>16.860474</td>\n",
       "      <td>17.030901</td>\n",
       "      <td>16.340798</td>\n",
       "      <td>167892.094862</td>\n",
       "    </tr>\n",
       "    <tr>\n",
       "      <th>std</th>\n",
       "      <td>2.100543</td>\n",
       "      <td>2.042477</td>\n",
       "      <td>2.145014</td>\n",
       "      <td>2.102519</td>\n",
       "      <td>2.113286</td>\n",
       "      <td>117343.064805</td>\n",
       "    </tr>\n",
       "    <tr>\n",
       "      <th>min</th>\n",
       "      <td>11.120000</td>\n",
       "      <td>11.320000</td>\n",
       "      <td>10.600000</td>\n",
       "      <td>10.680000</td>\n",
       "      <td>10.157216</td>\n",
       "      <td>25500.000000</td>\n",
       "    </tr>\n",
       "    <tr>\n",
       "      <th>25%</th>\n",
       "      <td>15.990000</td>\n",
       "      <td>16.150000</td>\n",
       "      <td>15.880000</td>\n",
       "      <td>16.000000</td>\n",
       "      <td>15.264355</td>\n",
       "      <td>89200.000000</td>\n",
       "    </tr>\n",
       "    <tr>\n",
       "      <th>50%</th>\n",
       "      <td>17.200001</td>\n",
       "      <td>17.379999</td>\n",
       "      <td>17.059999</td>\n",
       "      <td>17.250000</td>\n",
       "      <td>16.602453</td>\n",
       "      <td>138700.000000</td>\n",
       "    </tr>\n",
       "    <tr>\n",
       "      <th>75%</th>\n",
       "      <td>18.559999</td>\n",
       "      <td>18.700001</td>\n",
       "      <td>18.459999</td>\n",
       "      <td>18.549999</td>\n",
       "      <td>17.718063</td>\n",
       "      <td>203300.000000</td>\n",
       "    </tr>\n",
       "    <tr>\n",
       "      <th>max</th>\n",
       "      <td>21.070000</td>\n",
       "      <td>21.139999</td>\n",
       "      <td>20.870001</td>\n",
       "      <td>20.951000</td>\n",
       "      <td>20.582132</td>\n",
       "      <td>907700.000000</td>\n",
       "    </tr>\n",
       "  </tbody>\n",
       "</table>\n",
       "</div>"
      ],
      "text/plain": [
       "             Open        High         Low       Close   Adj Close  \\\n",
       "count  253.000000  253.000000  253.000000  253.000000  253.000000   \n",
       "mean    17.037407   17.191146   16.860474   17.030901   16.340798   \n",
       "std      2.100543    2.042477    2.145014    2.102519    2.113286   \n",
       "min     11.120000   11.320000   10.600000   10.680000   10.157216   \n",
       "25%     15.990000   16.150000   15.880000   16.000000   15.264355   \n",
       "50%     17.200001   17.379999   17.059999   17.250000   16.602453   \n",
       "75%     18.559999   18.700001   18.459999   18.549999   17.718063   \n",
       "max     21.070000   21.139999   20.870001   20.951000   20.582132   \n",
       "\n",
       "              Volume  \n",
       "count     253.000000  \n",
       "mean   167892.094862  \n",
       "std    117343.064805  \n",
       "min     25500.000000  \n",
       "25%     89200.000000  \n",
       "50%    138700.000000  \n",
       "75%    203300.000000  \n",
       "max    907700.000000  "
      ]
     },
     "execution_count": 12,
     "metadata": {},
     "output_type": "execute_result"
    }
   ],
   "source": [
    "df.describe()"
   ]
  },
  {
   "cell_type": "code",
   "execution_count": 13,
   "metadata": {},
   "outputs": [
    {
     "name": "stdout",
     "output_type": "stream",
     "text": [
      "<class 'pandas.core.frame.DataFrame'>\n",
      "Int64Index: 253 entries, 0 to 252\n",
      "Data columns (total 7 columns):\n",
      " #   Column     Non-Null Count  Dtype  \n",
      "---  ------     --------------  -----  \n",
      " 0   Date       253 non-null    object \n",
      " 1   Open       253 non-null    float64\n",
      " 2   High       253 non-null    float64\n",
      " 3   Low        253 non-null    float64\n",
      " 4   Close      253 non-null    float64\n",
      " 5   Adj Close  253 non-null    float64\n",
      " 6   Volume     253 non-null    int64  \n",
      "dtypes: float64(5), int64(1), object(1)\n",
      "memory usage: 15.8+ KB\n"
     ]
    }
   ],
   "source": [
    "df.info()"
   ]
  },
  {
   "cell_type": "markdown",
   "metadata": {},
   "source": [
    "Now let's have a brief look at our data."
   ]
  },
  {
   "cell_type": "code",
   "execution_count": 14,
   "metadata": {},
   "outputs": [
    {
     "data": {
      "image/png": "[encoded data removed]",
      "text/plain": [
       "<Figure size 1008x504 with 1 Axes>"
      ]
     },
     "metadata": {
      "needs_background": "light"
     },
     "output_type": "display_data"
    }
   ],
   "source": [
    "plt.figure(figsize = (14, 7))\n",
    "plt.plot(range(df.shape[0]), (df['Close']))\n",
    "plt.xticks(range(0,df.shape[0], 10), df['Date'].loc[::10], rotation = 45)\n",
    "plt.title('Volkswagen AG stock price', fontsize=20)\n",
    "plt.xlabel('Date', fontsize=18)\n",
    "plt.ylabel('Close Price', fontsize=18)\n",
    "plt.grid(color='b', linestyle='-', linewidth=0.1)\n",
    "plt.show()"
   ]
  },
  {
   "cell_type": "markdown",
   "metadata": {},
   "source": [
    "Time to prepare our data a little bit. Now we need only the 'Close' column."
   ]
  },
  {
   "cell_type": "code",
   "execution_count": 15,
   "metadata": {},
   "outputs": [],
   "source": [
    "data = df.iloc[:, 4:5].values"
   ]
  },
  {
   "cell_type": "markdown",
   "metadata": {},
   "source": [
    "Then let's split our data to training/validation/test parts, normalize'em."
   ]
  },
  {
   "cell_type": "code",
   "execution_count": 16,
   "metadata": {},
   "outputs": [],
   "source": [
    "data_train, data_valid = train_test_split(data, shuffle=False, test_size=0.3)\n",
    "data_valid, data_test = train_test_split(data_valid, shuffle=False, test_size=0.33)"
   ]
  },
  {
   "cell_type": "code",
   "execution_count": 17,
   "metadata": {},
   "outputs": [],
   "source": [
    "scaler = MinMaxScaler(feature_range=(0, 1))"
   ]
  },
  {
   "cell_type": "markdown",
   "metadata": {},
   "source": [
    "To prevent the data leakage we fit scaler only on data_train."
   ]
  },
  {
   "cell_type": "code",
   "execution_count": 18,
   "metadata": {},
   "outputs": [
    {
     "data": {
      "text/plain": [
       "MinMaxScaler(copy=True, feature_range=(0, 1))"
      ]
     },
     "execution_count": 18,
     "metadata": {},
     "output_type": "execute_result"
    }
   ],
   "source": [
    "scaler.fit(data_train)"
   ]
  },
  {
   "cell_type": "code",
   "execution_count": 19,
   "metadata": {},
   "outputs": [],
   "source": [
    "def scale_and_create_dataset(dataset, lookback, test=False):\n",
    "    \n",
    "    '''The function scales provided dataset and makes lists of features and targets.'''\n",
    "    \n",
    "    data = scaler.transform(dataset)\n",
    "    features, targets = [], []\n",
    "    if test == False:\n",
    "        for i in range(lookback, len(data)):\n",
    "            features.append(data[i-lookback:i, 0])\n",
    "            targets.append(data[i, 0])\n",
    "    else:\n",
    "        for i in range(lookback, len(data)):\n",
    "            features.append(data[i-lookback:i, 0])\n",
    "            targets.append(dataset[i, 0])\n",
    "    return np.array(features), np.array(targets)"
   ]
  },
  {
   "cell_type": "markdown",
   "metadata": {},
   "source": [
    "Just checked - we definetly predict based on previous values."
   ]
  },
  {
   "cell_type": "code",
   "execution_count": 20,
   "metadata": {},
   "outputs": [],
   "source": [
    "x_train, y_train = scale_and_create_dataset(data_train, lookback=4)"
   ]
  },
  {
   "cell_type": "code",
   "execution_count": 21,
   "metadata": {},
   "outputs": [],
   "source": [
    "x_valid, y_valid = scale_and_create_dataset(data_valid, lookback=4)"
   ]
  },
  {
   "cell_type": "code",
   "execution_count": 22,
   "metadata": {},
   "outputs": [],
   "source": [
    "x_test, y_test = scale_and_create_dataset(data_test, lookback=4, test=True)"
   ]
  },
  {
   "cell_type": "markdown",
   "metadata": {},
   "source": [
    "Reshape input to be (samples, lookback, features) which is required for LSTM layers."
   ]
  },
  {
   "cell_type": "code",
   "execution_count": 23,
   "metadata": {},
   "outputs": [],
   "source": [
    "def reshape_dataset(dataset):\n",
    "    \n",
    "    '''The function just reshapes dataset.'''\n",
    "    \n",
    "    return np.reshape(dataset, (dataset.shape[0], dataset.shape[1], 1))"
   ]
  },
  {
   "cell_type": "code",
   "execution_count": 24,
   "metadata": {},
   "outputs": [],
   "source": [
    "x_train = reshape_dataset(x_train)"
   ]
  },
  {
   "cell_type": "code",
   "execution_count": 25,
   "metadata": {},
   "outputs": [],
   "source": [
    "x_valid = reshape_dataset(x_valid)"
   ]
  },
  {
   "cell_type": "code",
   "execution_count": 26,
   "metadata": {},
   "outputs": [],
   "source": [
    "x_test = reshape_dataset(x_test)"
   ]
  },
  {
   "cell_type": "markdown",
   "metadata": {},
   "source": [
    "And now it's time to create neural network with LSTM layers. Simple as possible."
   ]
  },
  {
   "cell_type": "code",
   "execution_count": 27,
   "metadata": {},
   "outputs": [],
   "source": [
    "def create_model(input_shape):\n",
    "    \n",
    "    '''\n",
    "        The function creates neural network model with provided layers. \n",
    "        Input shape - shape of the lookback-array.\n",
    "    \n",
    "    '''\n",
    "    model = Sequential()\n",
    "\n",
    "    model.add(LSTM(units = 10, return_sequences=True,\n",
    "               kernel_initializer='glorot_uniform',\n",
    "               input_shape=input_shape))\n",
    "\n",
    "    model.add(LSTM(units=10, kernel_initializer='glorot_uniform',\n",
    "               return_sequences=True))\n",
    "\n",
    "    model.add(LSTM(units=10, kernel_initializer='glorot_uniform'))\n",
    "\n",
    "    model.add(Dense(units=1))\n",
    "\n",
    "    model.compile(optimizer='adam', loss='mean_squared_error')\n",
    "    \n",
    "    return model"
   ]
  },
  {
   "cell_type": "markdown",
   "metadata": {},
   "source": [
    "To create model we need to specify the input shape, let's do it."
   ]
  },
  {
   "cell_type": "code",
   "execution_count": 28,
   "metadata": {},
   "outputs": [],
   "source": [
    "input_shape = (x_train.shape[1], 1)"
   ]
  },
  {
   "cell_type": "code",
   "execution_count": 29,
   "metadata": {},
   "outputs": [],
   "source": [
    "model = create_model(input_shape)"
   ]
  },
  {
   "cell_type": "code",
   "execution_count": 30,
   "metadata": {},
   "outputs": [],
   "source": [
    "def train_model(model, features, target, validation_data, batch_size=None, epochs=None):\n",
    "    \n",
    "    '''The function trains neural network model. Also creates a file with weights of the best model.'''\n",
    "\n",
    "    weights_file = 'weights.hdf5'\n",
    "    metric = 'val_loss'\n",
    "    checkpoint = ModelCheckpoint(weights_file, monitor=metric, mode='min', save_best_only=True, verbose=2)\n",
    "\n",
    "    model.fit(features, target, validation_data=validation_data, \n",
    "              batch_size=batch_size, epochs=epochs, \n",
    "              callbacks=[checkpoint], shuffle=False)\n",
    "\n",
    "    return model"
   ]
  },
  {
   "cell_type": "code",
   "execution_count": 31,
   "metadata": {},
   "outputs": [],
   "source": [
    "# model = train_model(model, features=x_train, target=y_train, \n",
    "#                    batch_size=10, epochs=20, validation_data=(x_valid, y_valid))"
   ]
  },
  {
   "cell_type": "markdown",
   "metadata": {},
   "source": [
    "From this time we don't need to retrain our model again."
   ]
  },
  {
   "cell_type": "code",
   "execution_count": 32,
   "metadata": {},
   "outputs": [],
   "source": [
    "model.load_weights('weights.hdf5')"
   ]
  },
  {
   "cell_type": "markdown",
   "metadata": {},
   "source": [
    "Final step, applying the model to test data and getting predictions."
   ]
  },
  {
   "cell_type": "code",
   "execution_count": 33,
   "metadata": {},
   "outputs": [],
   "source": [
    "y_pred = model(x_test)"
   ]
  },
  {
   "cell_type": "code",
   "execution_count": 34,
   "metadata": {},
   "outputs": [],
   "source": [
    "predicted_price = scaler.inverse_transform(y_pred)"
   ]
  },
  {
   "cell_type": "markdown",
   "metadata": {},
   "source": [
    "Let's see what we've got."
   ]
  },
  {
   "cell_type": "code",
   "execution_count": 35,
   "metadata": {},
   "outputs": [
    {
     "data": {
      "image/png": "[encoded data removed]",
      "text/plain": [
       "<Figure size 1008x504 with 1 Axes>"
      ]
     },
     "metadata": {
      "needs_background": "light"
     },
     "output_type": "display_data"
    }
   ],
   "source": [
    "plt.figure(figsize = (14, 7))\n",
    "plt.plot(y_test, color = 'blue', label = 'Actual Stock Price')\n",
    "plt.plot(predicted_price, color = 'red', label = 'Predicted Stock Price')\n",
    "plt.xticks(range(0, y_test.shape[0], 1), df['Date'].iloc[227+data_train.shape[0]-x_train.shape[0]::1], rotation = 45)\n",
    "plt.title('Volkswagen AG stock price prediction', fontsize=20)\n",
    "plt.xlabel('Date',  fontsize=18)\n",
    "plt.ylabel('Stock Price', fontsize=18)\n",
    "plt.legend(fontsize=12)\n",
    "plt.grid(color='b', linestyle='-', linewidth=0.1)\n",
    "plt.show()"
   ]
  },
  {
   "cell_type": "markdown",
   "metadata": {},
   "source": [
    "Summarizing, we just made the neural network with couple of LSTM layers, and it seems like it works."
   ]
  },
  {
   "cell_type": "markdown",
   "metadata": {},
   "source": [
    "___"
   ]
  }
 ],
 "metadata": {
  "kernelspec": {
   "display_name": "Python 3",
   "language": "python",
   "name": "python3"
  },
  "language_info": {
   "codemirror_mode": {
    "name": "ipython",
    "version": 3
   },
   "file_extension": ".py",
   "mimetype": "text/x-python",
   "name": "python",
   "nbconvert_exporter": "python",
   "pygments_lexer": "ipython3",
   "version": "3.7.6"
  }
 },
 "nbformat": 4,
 "nbformat_minor": 4
}
